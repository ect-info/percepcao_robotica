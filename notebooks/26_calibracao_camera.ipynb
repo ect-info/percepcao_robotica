{
 "cells": [
  {
   "cell_type": "markdown",
   "metadata": {
    "slideshow": {
     "slide_type": "slide"
    }
   },
   "source": [
    "<table style=\"width: 100%; margin-left: auto; margin-right: auto;\" border=\"0\">\n",
    "    <tr>\n",
    "        <td rowspan=\"3\"> <img src=\"brasao_ufrn.png\" width=\"150\"/> </td>\n",
    "        <td style=\"text-align: center\">  Escola de Ciências e Tecnologia </td>\n",
    "        <td rowspan=\"3\" style=\"text-align: center\"> UFRN<br> CT<br> PPGEMECA </td>\n",
    "    </tr>\n",
    "    <tr>\n",
    "        <td style=\"text-align: center\"> PPGEMECA - Percepção Robótica </td>\n",
    "    </tr>\n",
    "    <tr>\n",
    "        <td>\n",
    "            <p style=\"text-align: left;\">Prof. Bruno Silva<br>\n",
    "                                         Prof. Marcelo Nogueira</p>\n",
    "        </td>\n",
    "    </tr>\n",
    "</table>"
   ]
  },
  {
   "cell_type": "markdown",
   "metadata": {
    "slideshow": {
     "slide_type": "slide"
    }
   },
   "source": [
    "## Calibração de Câmera I\n",
    "\n",
    "Calibração de câmera:\n",
    "\n",
    "> Processo responsável por estimar os parâmetros intrínsecos de uma câmera\n",
    "\n",
    "- Permite que a câmera realize o modelo de projeção perspectiva para:\n",
    "     - Pontos dados em coordenadas de câmera\n",
    "     - Pontos dados em coordenadas de mundo, caso os parâmetros extrínsecos sejam conhecidos\n",
    "- Etapa necessária para várias aplicações (ex. SLAM)"
   ]
  },
  {
   "cell_type": "markdown",
   "metadata": {
    "slideshow": {
     "slide_type": "slide"
    }
   },
   "source": [
    "## Calibração de Câmera II\n",
    "\n",
    "Estima valores para a matriz de câmera $\\mathbf{K}$:\n",
    "\n",
    "- Distâncias focais $f_x$ e $f_y$ (em pixels)\n",
    "- Coordenadas do centro de projeção $c_x$ e $c_y$ (em pixels)\n",
    "- Parâmetros de distorção:\n",
    "    - $k_1$, $k_2$ e $k_3$ (distorção radial)\n",
    "    - $p_1$ e $p_2$ (distorção tangencial)"
   ]
  },
  {
   "cell_type": "markdown",
   "metadata": {
    "slideshow": {
     "slide_type": "slide"
    }
   },
   "source": [
    "## Calibração de Câmera III\n",
    "\n",
    "Ideia do processo:\n",
    "\n",
    "- Fornecer *várias* imagens de **padrão de calibração**:\n",
    "    - Coordenadas 3D conhecidas para alguns pontos e\n",
    "    - Coordenadas 2D destes mesmos pontos facilmente detectáveis em imagens"
   ]
  },
  {
   "cell_type": "markdown",
   "metadata": {
    "slideshow": {
     "slide_type": "slide"
    }
   },
   "source": [
    "## Calibração de Câmera IV\n",
    "\n",
    "Processo de calibração:\n",
    "\n",
    "<table border=\"0\">\n",
    "<tr>\n",
    "<td><img src=\"26_calibracao_camera/calibration_process.png\" style=\"margin:auto; width: 800px;\"/></td>\n",
    "</tr>\n",
    "<tr>\n",
    "<td colspan=\"2\">\n",
    "Imagem de [4].\n",
    "</td>\n",
    "</tr>\n",
    "</table>"
   ]
  },
  {
   "cell_type": "markdown",
   "metadata": {
    "slideshow": {
     "slide_type": "slide"
    }
   },
   "source": [
    "## Padrão de Calibração I\n",
    "\n",
    "Geralmente utiliza-se padrões de calibração no formato\n",
    "de tabuleiros de xadrez:\n",
    "\n",
    "<table border=\"0\">\n",
    "<tr>\n",
    "<td><img src=\"26_calibracao_camera/calibration_patterns.png\" style=\"margin:auto; width: 800px;\"/></td>\n",
    "</tr>\n",
    "<tr>\n",
    "<td colspan=\"2\">\n",
    "Imagem de [3].\n",
    "</td>\n",
    "</tr>\n",
    "</table>"
   ]
  },
  {
   "cell_type": "markdown",
   "metadata": {
    "slideshow": {
     "slide_type": "slide"
    }
   },
   "source": [
    "## Padrão de Calibração II\n",
    "\n",
    "- Pontos 3D são dados em coordenadas de objeto (Sistema de Coordenadas preso ao plano do xadrez)\n",
    "    - Pontos possuem coordenadas<br> $(0,0,0), (W,0,0), (2W,0,0),..., (0,W,0), (0,2W,0),..., ((N-1)W, (N-1)W, 0)$\n",
    "    - $W$ é a largura do quadrado do tabuleiro\n",
    "    - $N$ é a quantidade de pontos 2D\n",
    "- Pontos 2D são os cantos internos do tabuleiro (intersecções entre 4 quadrados)\n",
    "- A coorrespondência 3D/2D entre cada coordenada de objeto e coordenada de imagem é facilmente obtida"
   ]
  },
  {
   "cell_type": "markdown",
   "metadata": {
    "slideshow": {
     "slide_type": "slide"
    }
   },
   "source": [
    "## Calibração de Câmera - Detalhes I\n",
    "\n",
    "Cada imagem do padrão de calibração fornece várias correspondências 3D/2D (*restrições*):\n",
    "\n",
    "$$\n",
    "\\begin{align*}\n",
    "(x^0_0,y^0_0) &\\leftrightarrow (X^0_0,Y^0_0,Z^0_0)\\\\\n",
    "(x^1_0,y^1_0) &\\leftrightarrow (X^1_0,Y^1_0,Z^1_0)\\\\\n",
    "\\vdots\\\\\n",
    "(x^{N-1}_0,y^{N-1}_0) &\\leftrightarrow (X^{N-1}_0,Y^{N-1}_0,Z^{N-1}_0)\\\\\n",
    "\\vdots\\\\\n",
    "(x^0_{K-1},y^0_{K-1}) &\\leftrightarrow (X^0_{K-1},Y^0_{K-1},Z^0_{K-1})\\\\\n",
    "(x^1_{K-1},y^1_{K-1}) &\\leftrightarrow (X^1_{K-1},Y^1_{K-1},Z^1_{K-1})\\\\\n",
    "\\vdots\\\\\n",
    "(x^{N-1}_{K-1},y^{N-1}_{K-1}) &\\leftrightarrow (X^{N-1}_{K-1},Y^{N-1}_{K-1},Z^{N-1}_{K-1})\n",
    "\\end{align*}\n",
    "$$\n",
    "\n",
    "($X^i_j$ é o i-ésimo ponto da j-ésima imagem, com $K$ imagens contendo padrão com $N$ pontos)"
   ]
  },
  {
   "cell_type": "markdown",
   "metadata": {
    "slideshow": {
     "slide_type": "slide"
    }
   },
   "source": [
    "## Calibração de Câmera - Detalhes II\n",
    "\n",
    "- É preciso fornecer uma quantidade suficiente de imagens para todos os parâmetros estimados\n",
    "- As imagens precisam ser distintas entre si:\n",
    "    - Padrão na imagem de perto, de longe, na esquerda/direita/cima/abaixo, rotacionado, etc.\n",
    "    - Do contrário: imagens similares $\\rightarrow$ equações similares (ruim para mínimos quadrados)"
   ]
  },
  {
   "cell_type": "markdown",
   "metadata": {
    "slideshow": {
     "slide_type": "slide"
    }
   },
   "source": [
    "## Calibração de Câmera - Detalhes III\n",
    "\n",
    "O algoritmo consistem em: \n",
    "\n",
    "- Para cada uma das $K$ imagens a serem utilizadas:\n",
    "    1. Detectar o padrão de calibração\n",
    "    2. Guardar os pontos 2D detectados juntamente com seus pontos 3D"
   ]
  },
  {
   "cell_type": "markdown",
   "metadata": {
    "slideshow": {
     "slide_type": "slide"
    }
   },
   "source": [
    "## Calibração de Câmera - Detalhes IV\n",
    "\n",
    "- Utilizar todas as correspondências 2D/3D em um sistema de equações"
   ]
  },
  {
   "cell_type": "markdown",
   "metadata": {
    "slideshow": {
     "slide_type": "slide"
    }
   },
   "source": [
    "## Calibração de Câmera - Detalhes V\n",
    "\n",
    "- Resolver o sistema de equações, que deve fornecer como solução:\n",
    "    - Os parâmetros extrínsecos $\\mathbf{R}_{j,w}$ e $\\mathbf{t}_{j,w}$\n",
    "      que alinham o Sistema de Coordenadas do tabuleiro com o **de cada câmera** $j$\n",
    "      - Ou seja, o sistema irá fornecer $K$ conjuntos de parâmetros extrínsecos\n",
    "    - Os parâmetros intrínsecos $f_x$, $f_y$, $c_x$, $c_y$, $[k_1, k_2, p_1, p_2, k_3]$\n",
    "      - Todas as imagens possuem o mesmo conjunto de intrínsecos"
   ]
  },
  {
   "cell_type": "markdown",
   "metadata": {
    "slideshow": {
     "slide_type": "slide"
    }
   },
   "source": [
    "## Calibração de Câmera - Detalhes VI\n",
    "\n",
    "O algoritmo da OpenCV divide o processo em duas etapas:\n",
    "\n",
    "- Computar os parâmetros extrínsecos e intrínsecos, sem computar os de distorção, segundo o método de Zhang [5]\n",
    "- Computar os parâmetros de distorção, segundo o método de Brown [6]\n",
    "\n",
    "O método de Zhang é baseado em computar homografias para cada imagem e a partir delas, obter\n",
    "a) os parâmetros intrínsecos (de forma fechada) e extrínsecos (com os intrínsecos computados anteriormente).\n",
    "Mais detalhes no livro da OpenCV [3]."
   ]
  },
  {
   "cell_type": "markdown",
   "metadata": {
    "slideshow": {
     "slide_type": "slide"
    }
   },
   "source": [
    "## Quantos Pontos/Imagens são Necessários? I\n",
    "\n",
    "> Qual o número $N$ de pontos e $K$ de imagens necessários\n",
    "> para calibração?\n",
    "\n",
    "Parâmetros a serem estimados:\n",
    "\n",
    "- 6 extrínsecos (3 ângulos + 3 posições)\n",
    "- 4 intrínsecos (2 distâncias focais e coordenadas do centro de projeção)"
   ]
  },
  {
   "cell_type": "markdown",
   "metadata": {
    "slideshow": {
     "slide_type": "slide"
    }
   },
   "source": [
    "## Quantos Pontos/Imagens são Necessários? II\n",
    "\n",
    "Lembre-se que:\n",
    "\n",
    "- Os 4 parâmetros intrínsecos são fixos e iguais para todas as imagens\n",
    "- Cada ponto fornece duas restrições para o sistema de equações\n",
    "  (já que cada ponto possui um $x$ e um $y$)\n",
    "\n",
    "Então, a quantidade de restrições tem que ser maior que a quantidade de parâmetros:\n",
    "\n",
    "$$\n",
    "2NK \\ge 4 + 6K\n",
    "$$\n",
    "ou seja\n",
    "$$\n",
    "K(N-3) \\ge 2\n",
    "$$"
   ]
  },
  {
   "cell_type": "markdown",
   "metadata": {
    "slideshow": {
     "slide_type": "slide"
    }
   },
   "source": [
    "## Quantos Pontos/Imagens são Necessários? III\n",
    "\n",
    "Entretanto: \n",
    "\n",
    "- Todos os pontos pertencerem a um mesmo plano no espaço 3D\n",
    "- Desta forma: cada imagem fornece, no máximo, 8 restrições (4 cantos, cada um contendo um $x$ e um $y$)"
   ]
  },
  {
   "cell_type": "markdown",
   "metadata": {
    "slideshow": {
     "slide_type": "slide"
    }
   },
   "source": [
    "## Quantos Pontos/Imagens são Necessários? IV\n",
    "\n",
    "Em $K$ imagens, temos portanto $4K$ restrições:\n",
    "\n",
    "$$\n",
    "K(4 - 3) \\ge 2\\\\\n",
    "K \\ge 2\n",
    "$$\n",
    "\n",
    "Com isto, o número mínimo de imagens necessárias é 2, com o menor padrão de xadrez possível sendo de tamanho $3\\times 3$."
   ]
  },
  {
   "cell_type": "markdown",
   "metadata": {
    "slideshow": {
     "slide_type": "slide"
    }
   },
   "source": [
    "## Quantos Pontos/Imagens são Necessários? V\n",
    "\n",
    "Na prática, devido a:\n",
    "\n",
    "- Ruído na imagem\n",
    "- Imprecisões nas coordenadas dos pontos\n",
    "- Natureza numérica do processo de otimização dos parâmetros\n",
    "- Possibilidade do padrão não ser detectado\n",
    "\n",
    "Recomenda-se utilizar pelo menos 10 imagens de um padrão de xadrez\n",
    "de tamanho pelo menos igual a $7 \\times 7$"
   ]
  },
  {
   "cell_type": "markdown",
   "metadata": {
    "slideshow": {
     "slide_type": "slide"
    }
   },
   "source": [
    "## Funções da OpenCV I\n",
    "\n",
    "`findChessboardCorners`: detecta o padrão de xadrez em uma imagem\n",
    "\n",
    "Parâmetros:\n",
    "\n",
    "- Imagem (1 canal)\n",
    "- Tamanho do padrão (linhas $\\times$ colunas)\n",
    "\n",
    "Retorno:\n",
    "\n",
    "- `True` ou `False` (se o padrão foi detectado completamente)\n",
    "- Cantos detectados (array Numpy)"
   ]
  },
  {
   "cell_type": "markdown",
   "metadata": {
    "slideshow": {
     "slide_type": "slide"
    }
   },
   "source": [
    "## Funções da OpenCV II\n",
    "\n",
    "`cornerSubPix`: refina as coordenadas dos cantos detectados\n",
    "\n",
    "Parâmetros:\n",
    "\n",
    "- Imagem (1 canal)\n",
    "- Cantos detectados (array Numpy)\n",
    "- Tamanho da janela de busca\n",
    "- Critério de parada\n",
    "\n",
    "Retorno:\n",
    "\n",
    "- Coordenadas dos cantos após refinamento (array Numpy)\n"
   ]
  },
  {
   "cell_type": "markdown",
   "metadata": {
    "slideshow": {
     "slide_type": "slide"
    }
   },
   "source": [
    "## Funções da OpenCV III\n",
    "\n",
    "`drawChessboardCorners`: desenha o padrão de xadrez na imagem\n",
    "\n",
    "Parâmetros:\n",
    "\n",
    "- Imagem (1 canal)\n",
    "- Tamanho do padrão (linhas $\\times$ colunas)\n",
    "- Cantos (array Numpy)\n",
    "- Booleano indicando se o padrão foi detectado ou não"
   ]
  },
  {
   "cell_type": "markdown",
   "metadata": {
    "slideshow": {
     "slide_type": "slide"
    }
   },
   "source": [
    "## Padrão de Xadrez Detectado\n",
    "\n",
    "Resultado da função `drawChessboardCorners`:\n",
    "\n",
    "<table border=\"0\">\n",
    "<tr>\n",
    "<td><img src=\"26_calibracao_camera/pattern_detection.jpg\" style=\"margin:auto; width: 350px;\"/></td>\n",
    "</tr>\n",
    "<tr>\n",
    "<td colspan=\"2\">\n",
    "Imagem de [3].\n",
    "</td>\n",
    "</tr>\n",
    "</table>"
   ]
  },
  {
   "cell_type": "markdown",
   "metadata": {
    "slideshow": {
     "slide_type": "slide"
    }
   },
   "source": [
    "## Funções da OpenCV IVa\n",
    "\n",
    "`calibrateCamera`: estima os parâmetros intrínsecos da câmera e os extrínsecos ref. a cada imagem\n",
    "\n",
    "Parâmetros:\n",
    "\n",
    "- Arrays dos pontos no objeto (arrays de array Numpy)\n",
    "- Arrays dos pontos na imagem (arrays de array Numpy)\n",
    "    - Estes dois arrays devem corresponder: numa mesma posição $k$, deve constar o 3D/2D de um mesmo ponto\n",
    "- Tamanho da imagem (largura $\\times$ altura)"
   ]
  },
  {
   "cell_type": "markdown",
   "metadata": {},
   "source": [
    "## Funções da OpenCV IVb\n",
    "\n",
    "`calibrateCamera`: estima os parâmetros intrínsecos da câmera e os extrínsecos ref. a cada imagem\n",
    "\n",
    "Retorno:\n",
    "\n",
    "- A soma dos erros de reprojeção\n",
    "- A matriz de parâmetros intrínsecos\n",
    "- Os coeficientes de distorção em um vetor\n",
    "- A orientação do plano no sistema de coordenadas da câmera (extrínsecos de rotação na representação de Rodrigues)\n",
    "- A posição do plano no sistema de coordenadas da câmera (extrínsecos de translação)\n"
   ]
  },
  {
   "cell_type": "markdown",
   "metadata": {
    "slideshow": {
     "slide_type": "slide"
    }
   },
   "source": [
    "## Sumário\n",
    "\n",
    "Nesta aula - calibração de câmera:\n",
    "\n",
    "- Descrição em alto nível do algoritmo de calibração utilizado pela OpenCV\n",
    "- Descrição de funções relacionadas fornecidas pela OpenCV"
   ]
  },
  {
   "cell_type": "markdown",
   "metadata": {
    "slideshow": {
     "slide_type": "slide"
    }
   },
   "source": [
    "# Referências:\n",
    "\n",
    "[1] R. Szeliski. 2010. Computer Vision: Algorithms and Applications (1st. ed.). Springer.\n",
    "\n",
    "[2] E. Trucco and A. Verri. 1998. Introductory Techniques for 3-D Computer Vision. Prentice Hall PTR, USA.\n",
    "\n",
    "[3] A. Kaehler and G. Bradski. 2014. Learning OpenCV, 2nd Edition. O'Reilly Media, Inc.\n",
    "\n",
    "[4] OpenCV Documentation: Tutorial: Camera Calibration.<br>\n",
    "    Disponível em https://docs.opencv.org/4.x/dc/dbb/tutorial_py_calibration.html\n",
    "\n",
    "[5] Zhang, Z. 2000. A flexible new technique for camera calibration.\n",
    "    IEEE Transactions on Pattern Analysis and Machine Intelligence.\n",
    "\n",
    "[6] Brown, D. C. 1971. Close-range camera calibration. Photogrammetric Engineering."
   ]
  }
 ],
 "metadata": {
  "celltoolbar": "Slideshow",
  "kernelspec": {
   "display_name": "Python 3 (ipykernel)",
   "language": "python",
   "name": "python3"
  },
  "language_info": {
   "codemirror_mode": {
    "name": "ipython",
    "version": 3
   },
   "file_extension": ".py",
   "mimetype": "text/x-python",
   "name": "python",
   "nbconvert_exporter": "python",
   "pygments_lexer": "ipython3",
   "version": "3.11.5"
  }
 },
 "nbformat": 4,
 "nbformat_minor": 2
}
