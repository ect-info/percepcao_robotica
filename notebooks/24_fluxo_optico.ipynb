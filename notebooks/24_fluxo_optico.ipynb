{
 "cells": [
  {
   "cell_type": "markdown",
   "metadata": {},
   "source": [
    "<table style=\"width: 100%; margin-left: auto; margin-right: auto;\" border=\"0\">\n",
    "    <tr>\n",
    "        <td rowspan=\"3\"> <img src=\"brasao_ufrn.png\" width=\"150\"/> </td>\n",
    "        <td style=\"text-align: center\">  Escola de Ciências e Tecnologia </td>\n",
    "        <td rowspan=\"3\" style=\"text-align: center\"> UFRN<br> CT<br> PPGEMECA </td>\n",
    "    </tr>\n",
    "    <tr>\n",
    "        <td style=\"text-align: center\"> PPGEMECA - Percepção Robótica </td>\n",
    "    </tr>\n",
    "    <tr>\n",
    "        <td>\n",
    "            <p style=\"text-align: left;\">Prof. Bruno Silva<br>\n",
    "                                         Prof. Marcelo Nogueira</p>\n",
    "        </td>\n",
    "    </tr>\n",
    "</table>"
   ]
  },
  {
   "cell_type": "markdown",
   "metadata": {},
   "source": [
    "## Rastreamento de Features I\n",
    "\n",
    "Aplicações com features do tipo ponto frequentemente precisam de obter correspondências\n",
    "entre features extraídas de diferentes imagens.\n",
    "\n",
    "Para isto:\n",
    "\n",
    "- Detecção em todas as imagens + obtenção de correspondências (*matching*)\n",
    "- Detecção em uma imagem de referência + *rastreamento* das features em imagens subsequentes\n"
   ]
  },
  {
   "cell_type": "markdown",
   "metadata": {},
   "source": [
    "## Rastreamento de Features II\n",
    "\n",
    "Ao rastrear features ao invés de detectá-las em cada nova imagem, o custo\n",
    "computacional da obtenção de correspondências entre pontos é menor.\n",
    "\n",
    "Uma das formulações deste problema é conhecido como\n",
    "**fluxo óptico**."
   ]
  },
  {
   "cell_type": "markdown",
   "metadata": {},
   "source": [
    "## Fluxo Óptico I\n",
    "\n",
    "![](24_fluxo_optico/fluxo_optico.gif)\n",
    "\n",
    "As features (pontos azuis) são detectadas em uma imagem de referência\n",
    "e rastreada ao longo de uma sequência de imagens.\n",
    "\n",
    "Para funcionar, o algoritmo assume um certo grau de similaridade\n",
    "entre imagens subsequentes (mais detalhes a seguir)."
   ]
  },
  {
   "cell_type": "markdown",
   "metadata": {},
   "source": [
    "## Fluxo Óptico II\n",
    "\n",
    "O *fluxo óptico* de uma imagem:\n",
    "\n",
    "- É o movimento aparente no padrão de intensidade da imagem\n",
    "    - Movimento aparente: a câmera se move, com a cena estática ou\n",
    "    - Objetos na cena se movem, com a câmera estática\n",
    "- É dado por um conjunto de vetores deslocamento\n",
    "    - Vetores deslocamento $=$ vetores velocidade (em pixels)\n",
    "- As variações espaciais e temporais nos pixels de uma imagem são\n",
    "  levadas em consideração para a estimação do fluxo óptico"
   ]
  },
  {
   "cell_type": "markdown",
   "metadata": {},
   "source": [
    "## Fluxo Óptico III\n",
    "\n",
    "Dadas duas imagens $I_1$ e $I_2$, sendo<br>\n",
    "\n",
    "- $I_1$ obtida num instante $t$ e\n",
    "- $I_2$ obtida num instante $t + \\Delta t$,\n",
    "\n",
    "<table border=\"0\">\n",
    "<tr>\n",
    "<td><img src=\"24_fluxo_optico/fluxo_optico1.png\" style=\"margin:auto; width: 400px;\"/></td>\n",
    "<td><img src=\"24_fluxo_optico/fluxo_optico2.png\" style=\"margin:auto; width: 400px;\"/></td>\n",
    "</tr>\n",
    "</table>"
   ]
  },
  {
   "cell_type": "markdown",
   "metadata": {},
   "source": [
    "## Fluxo Óptico IV\n",
    "\n",
    "Por definição:\n",
    "\n",
    "$$\n",
    "I_1(x,y) = I_2(x + v_x, y + v_y)\n",
    "$$"
   ]
  },
  {
   "cell_type": "markdown",
   "metadata": {},
   "source": [
    "## Fluxo Óptico V\n",
    "\n",
    "Para calcular o fluxo óptico de uma imagem, assume-se as seguintes premissas:\n",
    "\n",
    "1. A superfícies dos objetos da cena são Lambertianas (reflectância uniforme)\n",
    "    - Pixels vizinhos que correspondem a um mesmo objeto possuem mesmo padrão de intensidade\n",
    "2. O brilho de objetos que se movem em relação à câmera se mantêm constante em relação ao tempo\n",
    "    - Um objeto que se move não tem sua intensidade alterada"
   ]
  },
  {
   "cell_type": "markdown",
   "metadata": {},
   "source": [
    "## Fluxo Óptico VI\n",
    "\n",
    "Matematicamente, a variação de intensidade/brilho $I(x,y,t)$ deve ser nula\n",
    "ao longo do tempo, o que dá origem à equação da constância de brilho:\n",
    "\n",
    "$$\n",
    "\\frac{d I(x(t),y(t),t)}{d t} = 0\n",
    "$$"
   ]
  },
  {
   "cell_type": "markdown",
   "metadata": {},
   "source": [
    "## Fluxo Óptico - Desenvolvimento I\n",
    "\n",
    "A equação anterior pode ser desenvolvida como\n",
    "\n",
    "$$\n",
    "\\frac{d I(x,y,t)}{d t} =\n",
    "\\frac{\\partial I}{\\partial x}\\frac{d x}{d t} + \n",
    "\\frac{\\partial I}{\\partial y}\\frac{d y}{d t} +\n",
    "\\frac{\\partial I}{\\partial t} = 0,\n",
    "$$\n",
    "onde\n",
    "\n",
    "$$\n",
    "\\frac{\\partial I}{\\partial x} = G_{x},\\;\n",
    "\\frac{\\partial I}{\\partial y} = G_{y},\n",
    "$$\n",
    "formam o vetor gradiente da imagem $\\nabla G^{t}=[G_{x},\\; G_{y}]^{t}$,\n",
    "\n",
    "$$\n",
    "\\frac{d x}{d t}=v_{x},\\;\n",
    "\\frac{d y}{d t}=v_{y},\n",
    "$$\n",
    "formam o vetor deslocamento $\\mathbf{v}=[v_{x},\\; v_{y}]^t$ e\n",
    "\n",
    "$$\n",
    "\\frac{\\partial I}{\\partial t} = I_{t},\\;\n",
    "$$\n",
    "equivale a mudança de intensidade ao longo do tempo para uma dada posição $(x,y)$. "
   ]
  },
  {
   "cell_type": "markdown",
   "metadata": {},
   "source": [
    "## Fluxo Óptico - Desenvolvimento II\n",
    "\n",
    "Tem-se\n",
    "\n",
    "$$\n",
    "G_{x}v_{x} + G_{y}v_{y} = -I_{t},\n",
    "$$\n",
    "que pode ser reescrito de forma vetorial como\n",
    "\n",
    "$$\n",
    "\\nabla G^{t}\\mathbf{v} = -I_{t}\n",
    "$$\n",
    "\n",
    "Ou seja: uma única equação para duas incógnitas"
   ]
  },
  {
   "cell_type": "markdown",
   "metadata": {},
   "source": [
    "## Fluxo Óptico - Lucas Kanade I\n",
    "\n",
    "Uma solução para este problema foi formulada por Lucas e Kanade, no\n",
    "que ficou conhecido como algoritmo de fluxo óptico Lucas-Kanade (LK):\n",
    "\n",
    "- Calcula-se $\\mathbf{v}$ para o pixel central de uma\n",
    "  janela $Q$ de tamanho $N \\times N$\n",
    "- Tem-se agora um sistema sobredeterminado de $N \\times N$ equações,\n",
    "  formado pela equação do slide anterior aplicada a cada pixel $\\mathbf{p}_{i}$,<br>\n",
    "  $i=1,...,(N \\times N)$, da janela $Q$\n",
    "- Supõe que todos os pixels da janela $Q$ se moveram pelo mesmo vetor\n",
    "  de deslocamento $\\mathbf{v}$"
   ]
  },
  {
   "cell_type": "markdown",
   "metadata": {},
   "source": [
    "## Fluxo Óptico - Lucas Kanade II\n",
    "\n",
    "Sistema linear: as incógnitas são as componentes do vetor de deslocamento $\\mathbf{v}$.<br>\n",
    "O sistema é sobredeterminado (possui $N \\times N$ equações para 2 incógnitas):\n",
    "\n",
    "$$\n",
    "\\left[\n",
    "\\begin{array}{cc}\n",
    "G_{x}(\\mathbf{p}_{1}) & G_{y}(\\mathbf{p}_{1}) \\\\\n",
    "G_{x}(\\mathbf{p}_{2}) & G_{y}(\\mathbf{p}_{2}) \\\\\n",
    "\\vdots      & \\vdots      \\\\\n",
    "G_{x}(\\mathbf{p}_{N \\times N}) & G_{y}(\\mathbf{p}_{ N \\times N})\n",
    "\\end{array}\n",
    "\\right]\n",
    "\\left[\n",
    "\\begin{array}{c}\n",
    "v_{x}\\\\\n",
    "v_{y}\n",
    "\\end{array}\n",
    "\\right]\n",
    "=\n",
    "-\\left[\n",
    "\\begin{array}{c}\n",
    "I_{t}(\\mathbf{p}_{1})\\\\\n",
    "I_{t}(\\mathbf{p}_{2})\\\\\n",
    "\\vdots\\\\\n",
    "I_{t}(\\mathbf{p}_{N \\times N})\n",
    "\\end{array}\n",
    "\\right]\n",
    "$$"
   ]
  },
  {
   "cell_type": "markdown",
   "metadata": {},
   "source": [
    "## Fluxo Óptico - Lucas Kanade III\n",
    "\n",
    "Resolver o sistema sobredeterminado $A\\mathbf{v}=\\mathbf{b}$\n",
    "equivale a minimizar a função erro dada por\n",
    "$$\n",
    "\\varepsilon(\\mathbf{v})=\\sum_{\\mathbf{p}_{i} \\in Q}[\\nabla G^{t}.\\mathbf{v} + I_{t}]^{2}\n",
    "$$"
   ]
  },
  {
   "cell_type": "markdown",
   "metadata": {},
   "source": [
    "## Fluxo Óptico - Lucas Kanade IV\n",
    "\n",
    "A solução para $\\mathbf{v}$ é obtida resolvendo-se\n",
    "$$\n",
    "A^{t}A\\mathbf{v}=A^{t}\\mathbf{b},\n",
    "$$\n",
    "que por sua vez é dado por\n",
    "\n",
    "$$\n",
    "\\left[\n",
    "\\begin{array}{cc}\n",
    "\\sum G_{x}^{2} & \\sum  G_{x}G_{y} \\\\\n",
    "\\sum G_{x}G_{y} & \\sum G_{y}^{2}\n",
    "\\end{array}\n",
    "\\right]\n",
    "\\left[\n",
    "\\begin{array}{c}\n",
    "v_{x}\\\\\n",
    "v_{y}\n",
    "\\end{array}\n",
    "\\right]\n",
    "= -\n",
    "\\left[\n",
    "\\begin{array}{c}\n",
    "\\sum G_{x}I_{t}\\\\\n",
    "\\sum G_{y}I_{t}\n",
    "\\end{array}\n",
    "\\right],\n",
    "$$\n",
    "com os somatórios computados em ${\\mathbf{p}_{i} \\in Q}$.\n",
    "\n",
    "Ou seja,\n",
    "$$\n",
    "\\mathbf{v}=(A^{t}A)^{-1}A^{t}\\mathbf{b}\n",
    "$$"
   ]
  },
  {
   "cell_type": "markdown",
   "metadata": {},
   "source": [
    "## Fluxo Óptico - LK Piramidal I\n",
    "\n",
    "Algoritmo de Lucas-Kanade possui versão piramidal:\n",
    "\n",
    "- Garante precisão e robustez a movimentos maiores\n",
    "- Computado em várias versões subamostradas da imagem (ex. $320 \\times 240$, $160 \\times 120$, etc.)\n",
    "- Vetor deslocamento na imagem de menor resolução é propagado como solução\n",
    "  inicial para a imagem de maior resolução (solução *coarse-to-fine*) \n",
    "- Método envolve resolução iterativa"
   ]
  },
  {
   "cell_type": "markdown",
   "metadata": {},
   "source": [
    "## Fluxo Óptico - LK Piramidal II\n",
    "\n",
    "Chamando-se $S=A^{t}A$ na equação de mín. quadrados do fluxo óptico,\n",
    "a solução iterativa pode ser computada a partir da solução inicial $\\mathbf{v}^0=[0, 0]^{t}$\n",
    "calculando-se, a cada iteração $k$:\n",
    "\n",
    "$$\n",
    "B^k(p_x,p_y) = I_2(p_x+v^{k-1}_x,p_y+v^{k-1}_y),\n",
    "$$\n",
    "\n",
    "$$\n",
    "I^{k}_t=I_1(p_x,p_y)-B^k(p_x,p_y),\n",
    "$$\n",
    "\n",
    "$$\n",
    "\\mathbf{b}_{k}'=\n",
    "\\left[\n",
    "\\begin{array}{c}\n",
    "\\sum I^{k}_{t}I_{x}\\\\\n",
    "\\sum I^{k}_{t}I_{y}\n",
    "\\end{array}\n",
    "\\right],\n",
    "$$\n",
    "\n",
    "$$\n",
    "\\mathbf{\\eta}^{k}=S^{-1}\\mathbf{b}_{k}',\n",
    "$$\n",
    "\n",
    "$$\n",
    "\\mathbf{v}^{k}=\\mathbf{v}^{k-1} + \\mathbf{\\eta}^{k}. \n",
    "$$"
   ]
  },
  {
   "cell_type": "markdown",
   "metadata": {},
   "source": [
    "## Fluxo Óptico - OpenCV\n",
    "\n",
    "A função que calcula o fluxo óptico esparso com o algoritmo de Lucas-Kanade na OpenCV é a<br>\n",
    "\n",
    "`calcOpticalFlowPyrLK`\n",
    "\n",
    "Pesquise na documentação oficial sobre o seu funcionamento."
   ]
  },
  {
   "cell_type": "markdown",
   "metadata": {},
   "source": [
    "## Fluxo Óptico - Problema da Abertura I\n",
    "\n",
    "Em alguma situações, $A^{t}A$ não possui inversa:\n",
    "\n",
    "- Gradientes espaciais na janela $Q$ são nulos ou paralelos\n",
    "- Isto é conhecido na literatura como **problema da abertura**"
   ]
  },
  {
   "cell_type": "markdown",
   "metadata": {},
   "source": [
    "## Fluxo Óptico - Problema da Abertura II\n",
    "\n",
    "- Na imagem esquerda, o ponto para o qual está sendo calculado o fluxo óptico está em uma janela com um padrão de intensidade que faz com que $A^tA$ possua inversa\n",
    "- Na imagem do meio, o ponto para o qual o fluxo óptico está sendo calculado está em uma janela com um padrão de intensidade que pertence a uma borda: apenas o componente do fluxo paralelo à borda pode ser determinado\n",
    "- Na imagem da direita, o ponto está em uma janela sem mudanças de intensidade: o fluxo óptico admite infinitas soluções\n",
    "\n",
    "<table border=\"0\">\n",
    "<tr><td><img src=\"24_fluxo_optico/problema_da_abertura.png\" style=\"margin:auto; width: 800px;\"/></td></tr>\n",
    "<tr><td>Imagem de [1]</td></tr>\n",
    "</table>"
   ]
  },
  {
   "cell_type": "markdown",
   "metadata": {},
   "source": [
    "## Fluxo Óptico - Problema da Abertura III\n",
    "\n",
    "Para o fluxo óptico não ter ambiguidade:\n",
    "\n",
    "- Ele precisa ser calculado em posições na imagem contendo variações consideráveis\n",
    "  ao longo das direções horizontal e vertical\n",
    "- Mas isto já foi visto na disciplina:\n",
    "    - Esta condição acontece justamente em regiões de cantos\n",
    "    - A matriz $A^{t}A$ precisa atender $\\min(\\lambda_{0}, \\lambda_{1}) > \\alpha$,\n",
    "\t  com $\\lambda_{0}, \\lambda_{1}$ sendo seus autovalores e $\\tau$ um limiar\n"
   ]
  },
  {
   "cell_type": "markdown",
   "metadata": {},
   "source": [
    "## Fluxo Óptico - Problema da Abertura IV\n",
    "\n",
    "O resultado do fluxo óptico pode então ser interpretado como:\n",
    "\n",
    "1. Determinação do vetor deslocamento $\\mathbf{v}$ que relaciona\n",
    "   $I_{1}(x,y)$ com $I_{2}(x+v_x,y+v_y)$ ou\n",
    "2. **Rastreamento do ponto/canto** $I_{1}(x,y)$ para $I_{2}(x+v_x,y+v_y)$"
   ]
  },
  {
   "cell_type": "markdown",
   "metadata": {},
   "source": [
    "## Fluxo Óptico - Aplicações I\n",
    "\n",
    "Aplicações do fluxo óptico: navegação e detecção de obstáculos para robôs planares\n",
    "\n",
    "<table border=\"0\">\n",
    "<tr>\n",
    "<td><img src=\"24_fluxo_optico/of_obstaculos1.png\" style=\"margin:auto; width: 400px;\"/></td>\n",
    "<td><img src=\"24_fluxo_optico/of_obstaculos2.png\" style=\"margin:auto; width: 400px;\"/></td>\n",
    "</tr>\n",
    "<tr>\n",
    "<td colspan=\"2\">Imagens de [5]</td>\n",
    "</tr>\n",
    "</table>"
   ]
  },
  {
   "cell_type": "markdown",
   "metadata": {},
   "source": [
    "## Fluxo Óptico - Aplicações II\n",
    "\n",
    "Aplicações do fluxo óptico: SLAM e reconstrução 3D\n",
    "\n",
    "![](24_fluxo_optico/of_reconstrucao3d.gif)\n",
    "\n"
   ]
  },
  {
   "cell_type": "markdown",
   "metadata": {},
   "source": [
    "## Fluxo Óptico - Esparso vs. Denso\n",
    "\n",
    "- O que foi mostrado nesta aula foi um algoritmo para o fluxo óptico **esparso**\n",
    "    - Existem vários outros algoritmos\n",
    "- Existem também algoritmos que calculam o fluxo óptico **denso**\n",
    "    - O vetor deslocamento é calculado para todos os pixels na imagem"
   ]
  },
  {
   "cell_type": "markdown",
   "metadata": {},
   "source": [
    "## Sumário\n",
    "\n",
    "Nesta aula - cálculo do fluxo óptico:\n",
    "\n",
    "- Suposições assumidas\n",
    "- Algoritmo discutido: Lucas-Kanade\n",
    "- Cálculo do vetor deslocamento é ambíguo para alguns casos\n",
    "\t(problema da abertura)\n",
    "- Aplicações"
   ]
  },
  {
   "cell_type": "markdown",
   "metadata": {},
   "source": [
    "# Referências:\n",
    "\n",
    "[1] R. Szeliski. 2010. Computer Vision: Algorithms and Applications (1st. ed.). Springer.\n",
    "\n",
    "[2] E. Trucco and A. Verri. 1998. Introductory Techniques for 3-D Computer Vision. Prentice Hall PTR, USA.\n",
    "\n",
    "[3] A. Kaehler and G. Bradski. 2014. Learning OpenCV, 2nd Edition. O'Reilly Media, Inc.\n",
    "\n",
    "[4] J. Shi and C. Tomasi. 1994. Good features to track. International Conference on Computer Vision and Pattern Recognition (CVPR 1994). IEEE.\n",
    "\n",
    "[5] J. Campbell, R. Sukthankar, I. Nourbakhsh and A. Pahwa. 2005. A Robust Visual Odometry and Precipice Detection System Using Consumer-grade Monocular Vision. International Conference on Robotics and Automation (ICRA 2005). IEEE.\n",
    "\n",
    "[6] B.D. Lucas and T. Kanade. 1981. An Iterative Image Registration Technique with an Application to Stereo Vision. International Joint Conference on Artificial Intelligence (IJCAI 81).\n",
    "\n",
    "[7] J-Y. Bouguet. 1999. Pyramidal implementation of the Lucas Kanade feature tracker.\n",
    "\n"
   ]
  }
 ],
 "metadata": {
  "language_info": {
   "name": "python"
  }
 },
 "nbformat": 4,
 "nbformat_minor": 2
}
