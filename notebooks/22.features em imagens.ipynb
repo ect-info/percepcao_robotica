{
 "cells": [
  {
   "cell_type": "markdown",
   "id": "a387ec19",
   "metadata": {},
   "source": [
    "<table style=\"width: 100%; margin-left: auto; margin-right: auto;\" border=\"0\">\n",
    "    <tr>\n",
    "        <td rowspan=\"3\"> <img src=\"brasao_ufrn.png\" width=\"150\"/> </td>\n",
    "        <td style=\"text-align: center\">  Escola de Ciências e Tecnologia </td>\n",
    "        <td rowspan=\"3\" style=\"text-align: center\"> UFRN<br> CT<br> PPGEMECA </td>\n",
    "    </tr>\n",
    "    <tr>\n",
    "        <td style=\"text-align: center\"> PPGEMECA - Percepção Robótica </td>\n",
    "    </tr>\n",
    "    <tr>\n",
    "        <td>\n",
    "            <p style=\"text-align: left;\">Prof. Bruno Silva<br>\n",
    "                                         Prof. Marcelo Nogueira</p>\n",
    "        </td>\n",
    "    </tr>\n",
    "</table>"
   ]
  },
  {
   "cell_type": "markdown",
   "id": "ceb81166",
   "metadata": {},
   "source": [
    "## Features em Imagens I\n",
    "\n",
    "- Aplicações de Visão Computacional/Percepção Robótica depende da presença\n",
    "  de características (**features**) em imagens\n",
    "- Características visuais:\n",
    "    - Qualquer padrão de dados facilmente detectável em imagens\n",
    "    - Podem ser locais ou globais"
   ]
  },
  {
   "cell_type": "markdown",
   "id": "e832b5c8",
   "metadata": {},
   "source": [
    "## Features em Imagens II\n",
    "\n",
    "- Características visuais locais - dizem respeito a regiões na imagem:\n",
    "    - Cantos (*corners*)\n",
    "    - Pontos característicos (*keypoints*)\n",
    "    - Contornos\n",
    "    - Retas, círculos ou elipses (formas paramétricas)\n",
    "    - Regiões distintivas (*patches*)\n",
    "    - etc.\n",
    "- Características visuais globais - dizem respeito à imagem como um todo:\n",
    "    - Dados de cor/intensidade: média, variância, mediana, etc.\n",
    "    - Histograma: distribuição estatística dos valores dos pixels em algum espaço de cor\n",
    "    - Medidas de textura (ex. entropia)\n",
    "    - etc."
   ]
  },
  {
   "cell_type": "markdown",
   "id": "0d7f7618",
   "metadata": {},
   "source": [
    "## Features em Imagens III\n",
    "\n",
    "Neste curso, será dado ênfase em:\n",
    "\n",
    "- Features locais\n",
    "- Features do tipo pontos e regiões\n",
    "\n",
    "Você deverá entender o motivo para que estas features sejam as mais adequadas\n",
    "à área de Percepção Robótica nesta e na próxima aula"
   ]
  },
  {
   "cell_type": "markdown",
   "id": "a5d628b2",
   "metadata": {},
   "source": [
    "## Features em Imagens IV\n",
    "\n",
    "Motivação: dado um conjunto de imagens...\n",
    "\n",
    "<table border=\"0\">\n",
    "<tr><td><img src=\"22_features_em_imagens/aplicacao1.png\" style=\"margin:auto; width: 800px;\"/></td></tr>\n",
    "<tr><td>Imagem de [4]</td></tr>\n",
    "</table>"
   ]
  },
  {
   "cell_type": "markdown",
   "id": "a4ac3876",
   "metadata": {},
   "source": [
    "## Features em Imagens V\n",
    "\n",
    "... como construir um mosaico (colagem de imagens)?\n",
    "\n",
    "<table border=\"0\">\n",
    "<tr><td><img src=\"22_features_em_imagens/aplicacao2.png\" style=\"margin:auto; width: 800px;\"/></td></tr>\n",
    "<tr><td>Imagem de [4]</td></tr>\n",
    "</table>"
   ]
  },
  {
   "cell_type": "markdown",
   "id": "0c848aa5",
   "metadata": {},
   "source": [
    "## Features em Imagens VI\n",
    "\n",
    "Quais das regiões abaixo podem ser consideradas features? Por que?\n",
    "\n",
    "<table border=\"0\">\n",
    "<tr><td><img src=\"22_features_em_imagens/features_intuicao.png\" style=\"margin:auto; width: 800px;\"/></td></tr>\n",
    "<tr><td>Imagem de [1]</td></tr>\n",
    "</table>"
   ]
  },
  {
   "cell_type": "markdown",
   "id": "35da960f",
   "metadata": {},
   "source": [
    "## Features em Imagens VII\n",
    "\n",
    "Features naturais:\n",
    "\n",
    "- Geralmente encontradas em regiões de textura\n",
    "- Por sua vez, regiões de textura em imagens possuem variações consideráveis nos níveis de intensidade da imagem\n",
    "\n",
    "É preciso entender o que se quer dizer com variações na intensidade de uma imagem\n"
   ]
  },
  {
   "cell_type": "markdown",
   "id": "84fcb53f",
   "metadata": {},
   "source": [
    "## Variações na Intensidade da Imagem\n",
    "\n",
    "O código a seguir exibe uma imagem e um perfil (gráfico)\n",
    "da sua intensidade na linha correspondente à sua metade.\n",
    "\n",
    "Observe como a intensidade ao longo da linha varia do 0 para o 255,\n",
    "novamente para o 0, de novo do 0 para o 255 e por último para o 0."
   ]
  },
  {
   "cell_type": "code",
   "execution_count": 14,
   "id": "5c647d65",
   "metadata": {},
   "outputs": [
    {
     "data": {
      "image/png": "[encoded data removed]",
      "text/plain": [
       "<Figure size 640x480 with 2 Axes>"
      ]
     },
     "metadata": {},
     "output_type": "display_data"
    }
   ],
   "source": [
    "import cv2\n",
    "import numpy as np\n",
    "import matplotlib.pyplot as plt\n",
    "\n",
    "if __name__ == '__main__':\n",
    "\n",
    "    img_name = 'samples/ushape.png'\n",
    "    img = cv2.imread(img_name)\n",
    "    \n",
    "    gray = cv2.cvtColor(img, cv2.COLOR_BGR2GRAY)\n",
    "\n",
    "    ind_meio = int(gray.shape[1]/2)\n",
    "    lin_meio = gray[ind_meio, :] # linha do meio da imagem\n",
    "\n",
    "    plt.subplot(121)\n",
    "    plt.gca().set_title('Imagem original')\n",
    "    plt.imshow(gray, cmap='gray')\n",
    "    plt.subplot(122)\n",
    "    plt.gca().set_title(f'Linha {ind_meio}')\n",
    "    plt.plot(lin_meio)\n",
    "    plt.show()"
   ]
  },
  {
   "cell_type": "markdown",
   "id": "135c4566",
   "metadata": {},
   "source": [
    "## Filtro Passa Altas I\n",
    "\n",
    "Podemos utilizar o filtro tipo **passa altas** em uma imagem para calcular\n",
    "as mudanças de intensidade que nela ocorrem"
   ]
  },
  {
   "cell_type": "markdown",
   "id": "55158805",
   "metadata": {},
   "source": [
    "## Filtro Passa Altas II\n",
    "\n",
    "**Filtros passa altas**:\n",
    "\n",
    "- Realçam componentes de alta frequência em um sinal\n",
    "- Em imagens:\n",
    "  - Realçam regiões em que os níveis de intensidade variam\n",
    "  - Estão relacionados com as derivadas espaciais da imagem\n",
    "- Existem diversos tipos de filtro"
   ]
  },
  {
   "cell_type": "markdown",
   "id": "5269a1a0",
   "metadata": {},
   "source": [
    "## Detector de Bordas Sobel\n",
    "\n",
    "Um exemplo de filtro passa altas para imagens é o filtro de Sobel:\n",
    "\n",
    "- Possui dois kernels:\n",
    "    - Filtro $G_x$: resulta na derivada da imagem de entrada ao longo de $x$\n",
    "    - Filtro $G_y$: resulta na derivada da imagem de entrada ao longo de $y$ \n",
    "    \n",
    "<table border=\"0\">\n",
    "<tr><td><img src=\"22_features_em_imagens/filtros_passa_altas1.png\" style=\"margin:auto; width: 500px;\"/></td></tr>\n",
    "</table>"
   ]
  },
  {
   "cell_type": "markdown",
   "id": "81e2c6ff",
   "metadata": {},
   "source": [
    "## OpenCV: Detector de Bordas Sobel\n",
    "\n",
    "O código a seguir mostra como utilizar o detector de bordas Sobel (gradiente de 1a. ordem)\n",
    "na biblioteca OpenCV."
   ]
  },
  {
   "cell_type": "code",
   "execution_count": 6,
   "id": "2a07faea",
   "metadata": {},
   "outputs": [
    {
     "data": {
      "image/png": "[encoded data removed]",
      "text/plain": [
       "<Figure size 640x480 with 3 Axes>"
      ]
     },
     "metadata": {},
     "output_type": "display_data"
    }
   ],
   "source": [
    "import cv2\n",
    "import numpy as np\n",
    "import matplotlib.pyplot as plt\n",
    "\n",
    "if __name__ == '__main__':\n",
    "\n",
    "    img_name = 'samples/ushape.png'\n",
    "    img = cv2.imread(img_name)\n",
    "    \n",
    "    gray = cv2.cvtColor(img, cv2.COLOR_BGR2GRAY)\n",
    "    gx = cv2.Sobel(gray, -1, 1, 0) # -1: mantém o mesmo tipo da imagem original\n",
    "    gy = cv2.Sobel(gray, -1, 0, 1) # 2o e 3o parâmetros: ordem de dx e dy\n",
    "\n",
    "    plt.subplot(131)\n",
    "    plt.gca().set_title('Imagem original')\n",
    "    plt.imshow(gray, cmap='gray')\n",
    "    plt.subplot(132)\n",
    "    plt.gca().set_title('Gx')\n",
    "    plt.imshow(gx, cmap='gray')\n",
    "    plt.subplot(133)\n",
    "    plt.gca().set_title('Gy')\n",
    "    plt.imshow(gy, cmap='gray')\n",
    "    plt.show()"
   ]
  },
  {
   "cell_type": "markdown",
   "id": "f95b530a",
   "metadata": {},
   "source": [
    "## Detecção de Features do Tipo Cantos\n",
    "\n",
    "Como devemos detectar regiões na imagem correspondente a features do tipo cantos (corners)?"
   ]
  },
  {
   "cell_type": "markdown",
   "id": "2b8db4b3",
   "metadata": {},
   "source": [
    "## Detector de Cantos I\n",
    "\n",
    "**Cantos** ou *corners*: projeções na imagem de elementos distintivos de uma cena\n",
    "\n",
    "- Ocorrem localmente i.e. dentro de uma certa vizinhança de pixels onde\n",
    "  existe um certo padrão de intensidade\n",
    "- Não correspondem necessariamente a nenhuma geometria específica da cena\n",
    "- Estas estruturas possuem propriedades que permitem que algoritmos consigam\n",
    "  localizá-las/rastreá-las ao longo de diferentes imagens de uma mesma cena"
   ]
  },
  {
   "cell_type": "markdown",
   "id": "aa2dc1ba",
   "metadata": {},
   "source": [
    "## Detector de Cantos II\n",
    "\n",
    "Padrões de intensidade para um canto, borda e região sem variação de intensidade.\n",
    "\n",
    "<table border=\"0\">\n",
    "<tr><td><img src=\"22_features_em_imagens/gradientes.png\" style=\"margin:auto; width: 800px;\"/></td></tr>\n",
    "<tr><td>Imagem de [1]</td></tr>\n",
    "</table>"
   ]
  },
  {
   "cell_type": "markdown",
   "id": "b4889e65",
   "metadata": {},
   "source": [
    "## Detector de Cantos III\n",
    "\n",
    "**Como detectar cantos?**\n",
    "\n",
    "Considere a matriz $C$ abaixo, calculada em função das derivadas espaciais $G_x$\n",
    "e $G_y$, em torno de uma janela $w$ de um ponto $p$:\n",
    "\n",
    "$$\n",
    "C =\n",
    "\\begin{bmatrix}\n",
    "\\Sigma_w G_x^2   & \\Sigma_w G_x G_y\\\\\n",
    "\\Sigma_w G_x G_y & \\Sigma_w G_y^2\n",
    "\\end{bmatrix}\n",
    "$$\n",
    "\n",
    "Esta matriz caracteriza a estrutura da intensidade na vizinhança $w$ de $p$"
   ]
  },
  {
   "cell_type": "markdown",
   "id": "3a3d0826",
   "metadata": {},
   "source": [
    "## Detector de Cantos IV\n",
    "\n",
    "Podemos prosseguir então com uma análise dos autovalores da matriz $C$.\n",
    "\n",
    "Por ser simétrica, $C$ pode ser diagonalizada e vista como\n",
    "\n",
    "$$\n",
    "C =\n",
    "\\begin{bmatrix}\n",
    "\\lambda_0   & 0\\\\\n",
    "0           & \\lambda_1\n",
    "\\end{bmatrix},\n",
    "$$\n",
    "\n",
    "onde $\\lambda_0$ e $\\lambda_1$ são os seus autovalores."
   ]
  },
  {
   "cell_type": "markdown",
   "id": "08e6e560",
   "metadata": {},
   "source": [
    "## Detector de Cantos V\n",
    "\n",
    "Considerando que os autovalores estão ordenados por valor\n",
    "($\\lambda_0 \\ge \\lambda_1$), podemos pensar em 3 casos distintos,\n",
    "de acordo com a janela $w$ de um ponto $p$:\n",
    "\n",
    "1. $w$ em uma região com intensidade próxima à uniforme: $G_x$ e $G_y$ estarão próximos de 0 e portanto, $\\lambda_0 = \\lambda_1 \\approx 0$\n",
    "2. $w$ em uma região de borda: o maior autovalor $\\lambda_0$ possui autovetor associado na direção normal à borda e $\\lambda_1$ será próximo a 0\n",
    "3. $w$ em uma região de canto: $G_x$ e $G_y$ serão altos e assim $\\lambda_0 \\ge \\lambda_1 \\gt 0$"
   ]
  },
  {
   "cell_type": "markdown",
   "id": "081e64a3",
   "metadata": {},
   "source": [
    "## Detector de Cantos VI\n",
    "\n",
    "Assim, calculando os autovalores $\\lambda_0$ e $\\lambda_1$ de $C$,\n",
    "\n",
    "**o ponto $p$ será um canto caso o menor autovalor $\\lambda_1$ possua\n",
    "valor alto o suficiente** "
   ]
  },
  {
   "cell_type": "markdown",
   "id": "9f3575be",
   "metadata": {},
   "source": [
    "## Detector de Cantos VII\n",
    "\n",
    "Matematicamente, é possível utilizar algumas estratégias:\n",
    "\n",
    "- Comparar $\\lambda_1$ com um limiar $\\tau$ (parâmetro do algoritmo)\n",
    "- Calcular $\\text{det}(C) - \\alpha \\text{tr}(C)^2 = \\lambda_0 \\lambda_1 - \\alpha(\\lambda_0 + \\lambda_1)^2$ e comparar com um limiar $\\alpha$ (parâmetro do algoritmo)"
   ]
  },
  {
   "cell_type": "markdown",
   "id": "0fee5966",
   "metadata": {},
   "source": [
    "## Detector de Cantos VIII\n",
    "\n",
    "O algoritmo pode ser resumido como segue:\n",
    "\n",
    "```\n",
    "1. Compute os gradientes Gx e Gy da imagem de entrada\n",
    "2. Para cada ponto p da imagem:\n",
    "    a. construa a matriz C em uma vizinhança w de p\n",
    "    b. compute os autovalores de C\n",
    "    c. utilize uma das estratégias do slide anterior para determinar se p é um ponto\n",
    "       e o adicione a uma lista de pontos se for o caso\n",
    "3. Processe a lista de pontos para remover pontos muito próximos:\n",
    "    a. ordene pela intensidade do ponto (menor autovalor) e remova os menores\n",
    "    b. ordene pelas coordenadas do ponto e remova pontos vizinhos (non-maximal suppression)\n",
    "```"
   ]
  },
  {
   "cell_type": "markdown",
   "id": "9b4fe2a3",
   "metadata": {},
   "source": [
    "## Detector de Cantos: Características\n",
    "\n",
    "O detector de cantos apresentado:\n",
    "\n",
    "- É conhecido como detector de cantos de Harris [5,6]\n",
    "- É invariante a translações e rotações"
   ]
  },
  {
   "cell_type": "markdown",
   "id": "72e729d7",
   "metadata": {},
   "source": [
    "## Outras Features I\n",
    "\n",
    "Outras features: linhas retas (achadas em ambientes construídos pelo homem):\n",
    "útil para Percepção Robótica?\n",
    "\n",
    "<table border=\"0\">\n",
    "<tr><td><img src=\"22_features_em_imagens/features_linhas.png\" style=\"margin:auto; width: 800px;\"/></td></tr>\n",
    "<tr><td>Imagem de [1]</td></tr>\n",
    "</table>"
   ]
  },
  {
   "cell_type": "markdown",
   "id": "b8be2457",
   "metadata": {},
   "source": [
    "## Outras Features II\n",
    "\n",
    "Outras features: regiões distintivas\n",
    "\n",
    "- Invariantes à escala\n",
    "- Parcialmente invariante à distorção perspectiva\n",
    "\n",
    "<table border=\"0\">\n",
    "<tr><td><img src=\"22_features_em_imagens/features_mops.png\" style=\"margin:auto; width: 800px;\"/></td></tr>\n",
    "<tr><td>Imagem de [1]</td></tr>\n",
    "</table>"
   ]
  },
  {
   "cell_type": "markdown",
   "id": "2cef3460",
   "metadata": {},
   "source": [
    "## Sumário\n",
    "\n",
    "Nesta aula:\n",
    "\n",
    "- Features em imagens\n",
    "- Gradientes em imagens\n",
    "- Análise de regiões de cantos (corners)\n",
    "- Algoritmo para detecção de cantos"
   ]
  },
  {
   "cell_type": "markdown",
   "id": "f57ab0fd",
   "metadata": {
    "slideshow": {
     "slide_type": "slide"
    }
   },
   "source": [
    "## Referências:\n",
    "\n",
    "[1] Richard Szeliski. 2010. Computer Vision: Algorithms and Applications (1st. ed.). Springer-Verlag, Berlin, Heidelberg.\n",
    "\n",
    "[2] Emanuele Trucco and Alessandro Verri. 1998. Introductory Techniques for 3-D Computer Vision. Prentice Hall PTR, USA.\n",
    "\n",
    "[3] Adrian Kaehler and Gary Bradski. 2014. Learning OpenCV, 2nd Edition. O'Reilly Media, Inc.\n",
    "\n",
    "[4] M. Brown, R. Szeliski and S. Winder. 2005. Multi-Image Matching using Multi-Scale Oriented Patches. \n",
    "International Conference on Computer Vision and Pattern Recognition (CVPR 2005). pages 510-517.\n",
    "\n",
    "[5] C. Harris and M. Stephens. 1988. A Combined Corner and Edge Detector. Alvey Vision Conference. Vol. 15.\n",
    "\n",
    "[6] J. Shi and C. Tomasi. 1994. Good features to track. International Conference on Computer Vision and Pattern Recognition (CVPR 1994). pages 593–600."
   ]
  }
 ],
 "metadata": {
  "kernelspec": {
   "display_name": "Python 3 (ipykernel)",
   "language": "python",
   "name": "python3"
  },
  "language_info": {
   "codemirror_mode": {
    "name": "ipython",
    "version": 3
   },
   "file_extension": ".py",
   "mimetype": "text/x-python",
   "name": "python",
   "nbconvert_exporter": "python",
   "pygments_lexer": "ipython3",
   "version": "3.11.4"
  }
 },
 "nbformat": 4,
 "nbformat_minor": 5
}
