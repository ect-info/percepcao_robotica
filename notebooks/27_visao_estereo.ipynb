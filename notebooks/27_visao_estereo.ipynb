{
 "cells": [
  {
   "cell_type": "markdown",
   "metadata": {
    "slideshow": {
     "slide_type": "slide"
    }
   },
   "source": [
    "<table style=\"width: 100%; margin-left: auto; margin-right: auto;\" border=\"0\">\n",
    "    <tr>\n",
    "        <td rowspan=\"3\"> <img src=\"brasao_ufrn.png\" width=\"150\"/> </td>\n",
    "        <td style=\"text-align: center\">  Escola de Ciências e Tecnologia </td>\n",
    "        <td rowspan=\"3\" style=\"text-align: center\"> UFRN<br> CT<br> PPGEMECA </td>\n",
    "    </tr>\n",
    "    <tr>\n",
    "        <td style=\"text-align: center\"> PPGEMECA - Percepção Robótica </td>\n",
    "    </tr>\n",
    "    <tr>\n",
    "        <td>\n",
    "            <p style=\"text-align: left;\">Prof. Bruno Silva<br>\n",
    "                                         Prof. Marcelo Nogueira</p>\n",
    "        </td>\n",
    "    </tr>\n",
    "</table>"
   ]
  },
  {
   "cell_type": "markdown",
   "metadata": {
    "slideshow": {
     "slide_type": "slide"
    }
   },
   "source": [
    "## Visão Estéreo I\n",
    "\n",
    "> Visão estéreo: utilizar dois sensores em um sistema de visão computacional\n",
    "\n",
    "Permite que seja obtida a profundidade de pontos visualizados pelas câmeras"
   ]
  },
  {
   "cell_type": "markdown",
   "metadata": {
    "slideshow": {
     "slide_type": "slide"
    }
   },
   "source": [
    "## Visão Estéreo II\n",
    "\n",
    "Funcionamento:\n",
    "\n",
    "- Seres humanos e (vários outros animais) possuem 2 olhos e os utilizam para\n",
    "  a obtenção de profundidade de objetos\n",
    "- Este processo é imitado computacionalmente:\n",
    "    1. Acha-se o mesmo objeto nas imagens esquerda e direita\n",
    "    2. A partir de um modelo matemático, calcula-se a profundidade para o objeto"
   ]
  },
  {
   "cell_type": "markdown",
   "metadata": {
    "slideshow": {
     "slide_type": "slide"
    }
   },
   "source": [
    "## Visão Estéreo III\n",
    "\n",
    "Processo é dividido em 4 etapas:\n",
    "\n",
    "1. Calibração (*offline*): obtenção dos parâmetros intrínsecos das duas câmeras e dos extrínsecos entre as câmeras\n",
    "2. Retificação: remoção de distorção e alinhamento \"virtual\" das duas câmeras\n",
    "3. Obtenção de correspondências: um mesmo ponto é achado na imagem esquerda e direita\n",
    "4. Triangulação: a profundidade é calculada a partir das correspondências e geometria do sistema estéreo\n",
    "\n",
    "<table border=\"0\">\n",
    "<tr>\n",
    "<td><img src=\"27_visao_estereo/stereo_pipeline_diagram.png\" style=\"margin:auto; width: 800px;\"/></td>\n",
    "</tr>\n",
    "</table>"
   ]
  },
  {
   "cell_type": "markdown",
   "metadata": {
    "slideshow": {
     "slide_type": "slide"
    }
   },
   "source": [
    "## Visão Estéreo IV\n",
    "\n",
    "- A etapa 1 é realizada uma única vez (assumindo que as câmeras não terão suas distâncias focais alteradas)\n",
    "- As etapas 2, 3 e 4 são realizadas para cada novo par de imagens do sistema estéreo\n",
    "- Também é possível obter as coordenadas 3D dos pontos visualizados (reprojeção 3D)"
   ]
  },
  {
   "cell_type": "markdown",
   "metadata": {
    "slideshow": {
     "slide_type": "slide"
    }
   },
   "source": [
    "## Visão Estéreo V\n",
    "\n",
    "A imagem abaixo exibe a retificação (em cima) e o resultado da triangulação (abaixo).\n",
    "\n",
    "<table border=\"0\">\n",
    "<tr>\n",
    "<td><img src=\"27_visao_estereo/stereo_pipeline.jpg\" style=\"margin:auto; width: 600px;\"/></td>\n",
    "</tr>\n",
    "<tr>\n",
    "<td colspan=\"2\">\n",
    "Imagem de [4].\n",
    "</td>\n",
    "</tr>\n",
    "</table>"
   ]
  },
  {
   "cell_type": "markdown",
   "metadata": {
    "slideshow": {
     "slide_type": "slide"
    }
   },
   "source": [
    "## Configuração Estéreo Ideal\n",
    "\n",
    "A imagem abaixo exibe a configuração de um sistema de visão estéreo ideal\n",
    "com câmeras horizontais (uma ao lado da outra).\n",
    "Sem perda de generalidade, o sistema pode ser composto por uma câmera em cima e outra em baixo.\n",
    "\n",
    "<table border=\"0\">\n",
    "<tr>\n",
    "<td><img src=\"27_visao_estereo/ideal_stereo1.png\" style=\"margin:auto; width: 600px;\"/></td>\n",
    "</tr>\n",
    "<tr>\n",
    "<td colspan=\"2\">\n",
    "Imagem de [3].\n",
    "</td>\n",
    "</tr>\n",
    "</table>"
   ]
  },
  {
   "cell_type": "markdown",
   "metadata": {
    "slideshow": {
     "slide_type": "slide"
    }
   },
   "source": [
    "## Configuração Estéreo Ideal - Premissas I\n",
    "\n",
    "Premissas:\n",
    "\n",
    "- Os eixos ópticos das duas câmeras são paralelos\n",
    "- Os planos de imagem das duas câmeras são coplanares\n",
    "- As duas câmeras possuem a mesma distância focal: $f = f^l = f^r$ \n",
    "- As duas câmeras estão separadas por uma distância $T$ (linha de base)\n",
    "\n",
    "Nota: $^l$ diz respeito à câmera esquerda e $^r$ à direita."
   ]
  },
  {
   "cell_type": "markdown",
   "metadata": {
    "slideshow": {
     "slide_type": "slide"
    }
   },
   "source": [
    "## Configuração Estéreo Ideal - Premissas II\n",
    "\n",
    "Premissas (continuação):\n",
    "\n",
    "- As coordenadas horizontais na imagem do centro de projeção nas duas câmeras\n",
    "  são iguais: $c^l_x = c^r_x$\n",
    "- As duas imagens estão alinhadas por linha: cada linha da imagem de uma câmera se alinha\n",
    "  perfeitamente com apenas uma linha da imagem da outra câmera\n",
    "- Um ponto $\\mathbf{P}$ presente no mundo pode ser achado sem ambiguidades na\n",
    "  câmera esquerda e direita, com coordenadas $\\mathbf{p^l}$ e $\\mathbf{p^r}$\n",
    "- O sistema de coordenadas do par estéreo (*stereo pair* ou *stereo rig*) está na câmera esquerda"
   ]
  },
  {
   "cell_type": "markdown",
   "metadata": {
    "slideshow": {
     "slide_type": "slide"
    }
   },
   "source": [
    "## Triangulação - Modelo Geométrico I\n",
    "\n",
    "**Triangulação**: obtenção da profundidade de um ponto (coordenada $Z$)\n",
    "através da sua imagem em duas câmeras.\n",
    "\n",
    "A imagem abaixo ilustra a matemática envolvida.\n",
    "\n",
    "<table border=\"0\">\n",
    "<tr>\n",
    "<td><img src=\"27_visao_estereo/ideal_stereo2.png\" style=\"margin:auto; width: 350px;\"/></td>\n",
    "</tr>\n",
    "<tr>\n",
    "<td colspan=\"2\">\n",
    "Imagem de [3].\n",
    "</td>\n",
    "</tr>\n",
    "</table>"
   ]
  },
  {
   "cell_type": "markdown",
   "metadata": {
    "slideshow": {
     "slide_type": "slide"
    }
   },
   "source": [
    "## Triangulação - Modelo Geométrico II\n",
    "\n",
    "Por semelhança de triângulos, chega-se a\n",
    "\n",
    "$$\n",
    "\\begin{align*}\n",
    "\\frac{T}{Z} &= \\frac{T - (x^r - x^l)}{Z-f}\\\\\n",
    "         Z  &= \\frac{fT}{x^l-x^r}\n",
    "\\end{align*}\n",
    "$$"
   ]
  },
  {
   "cell_type": "markdown",
   "metadata": {
    "slideshow": {
     "slide_type": "slide"
    }
   },
   "source": [
    "## Triangulação - Disparidade I\n",
    "\n",
    "**Disparidade**: diferença na coordenada $x$ de um mesmo ponto nas imagens esquerda/direita\n",
    "$\\rightarrow d = x^l-x^r$:\n",
    "\n",
    "$$\n",
    "Z = \\frac{fT}{d}\n",
    "$$\n",
    "\n",
    "Nota: sem perda de generalidade, a diferença pode ser na coordenada $y$ para um sistema estéreo com\n",
    "câmera em cima e em baixo."
   ]
  },
  {
   "cell_type": "markdown",
   "metadata": {
    "slideshow": {
     "slide_type": "slide"
    }
   },
   "source": [
    "## Triangulação - Disparidade II\n",
    "\n",
    "<table border=\"0\">\n",
    "<tr>\n",
    "<td><img src=\"27_visao_estereo/disparity_x_distance.png\" style=\"margin:auto; width: 400px;\"/></td>\n",
    "</tr>\n",
    "<tr>\n",
    "<td colspan=\"2\">\n",
    "Imagem de [3].\n",
    "</td>\n",
    "</tr>\n",
    "</table>\n",
    "\n",
    "A profundidade $Z$ de um ponto é inversamente proporcional à sua disparidade:\n",
    "\n",
    "- Quanto maior a disparidade, mais próximo da câmera está o ponto\n",
    "- Para pontos que estão longe da câmera: pequenas diferenças na disparidade, grandes diferenças na profundidade\n",
    "- O sistema de visão estéreo tem mais resolução (em unidades de comprimento) para pontos mais próximos"
   ]
  },
  {
   "cell_type": "markdown",
   "metadata": {
    "slideshow": {
     "slide_type": "slide"
    }
   },
   "source": [
    "## Geometria Epipolar I\n",
    "\n",
    "**Geometria epipolar**: geometria entre duas câmeras; modela matematicamente um sistema de visão estéreo\n",
    "e também um sistema de uma única câmera em movimento\n",
    "\n",
    "<table border=\"0\">\n",
    "<tr>\n",
    "<td><img src=\"27_visao_estereo/epipolar_geometry.png\" style=\"margin:auto; width: 500px;\"/></td>\n",
    "</tr>\n",
    "<tr>\n",
    "<td colspan=\"2\">\n",
    "Imagem de [3].\n",
    "</td>\n",
    "</tr>\n",
    "</table>"
   ]
  },
  {
   "cell_type": "markdown",
   "metadata": {
    "slideshow": {
     "slide_type": "slide"
    }
   },
   "source": [
    "## Geometria Epipolar II\n",
    "\n",
    "Envolve:\n",
    "\n",
    "- **Epipolo**: projeção em uma das imagens (ex.: direita) do centro de projeção da outra câmera (ex.: esquerda)\n",
    "    - Pontos $\\mathbf{e}_l$ e $\\mathbf{e}_r$\n",
    "- **Plano epipolar**: plano que contém os epipolos e um ponto no mundo\n",
    "    - Plano que contém $\\mathbf{O}_l$, $\\mathbf{O}_r$ e $\\mathbf{P}$\n",
    "- **Linha epipolar**: linha na imagem entre o epipolo e a projeção de um ponto no mundo (linha do plano epipolar que \"corta\" a imagem)\n",
    "    - Linhas $\\overrightarrow{\\mathbf{p}_l\\mathbf{e}_l}$ e $\\overrightarrow{\\mathbf{p}_r\\mathbf{e}_r}$\n",
    "- É assumido que $\\mathbf{P}_r = \\mathbf{R}(\\mathbf{P}_l - \\mathbf{t})$, com $\\mathbf{R}$ e $\\mathbf{t}$\n",
    "  sendo os parâmetros extrínsecos entre as câmeras"
   ]
  },
  {
   "cell_type": "markdown",
   "metadata": {
    "slideshow": {
     "slide_type": "slide"
    }
   },
   "source": [
    "## Geometria Epipolar III\n",
    "\n",
    "Dado que um ponto 3D no mundo compartilha um mesmo plano com\n",
    "suas projeções na câmera esquerda e direita:\n",
    "\n",
    "- As coordenadas 3D do ponto no mundo podem ser calculadas pela\n",
    "  \"intersecção\" dos dois raios disparados pelas duas câmeras em direção ao mundo\n",
    "- Além disto: a correspondência de um ponto detectado na imagem esquerda estará\n",
    "  ao longo da linha epipolar relacionada a este ponto na imagem direita (e vice-versa)\n",
    "  - **Restrição epipolar**: correspondência entre pontos na imagem esq/dir passa\n",
    "    a ser calculada por uma busca ao longo de uma única linha"
   ]
  },
  {
   "cell_type": "markdown",
   "metadata": {
    "slideshow": {
     "slide_type": "slide"
    }
   },
   "source": [
    "## Geometria Epipolar IV\n",
    "\n",
    "Neste ponto, são perguntas relevantes:\n",
    "\n",
    "- É possível estimar a geometria epipolar?\n",
    "- Como determinar o mapeamento entre pontos em uma imagem e linhas na outra imagem?"
   ]
  },
  {
   "cell_type": "markdown",
   "metadata": {
    "slideshow": {
     "slide_type": "slide"
    }
   },
   "source": [
    "## Geometria Epipolar V\n",
    "\n",
    "A geometria epipolar é modelada por duas importantes matrizes, que relacionam\n",
    "grandezas referentes às duas câmeras envolvidas:\n",
    "\n",
    "- Matriz essencial $\\mathbf{E}$: relaciona pontos físicos no mundo (de uma imagem) com linhas físicas (na outra imagem)\n",
    "- Matriz fundamental $\\mathbf{F}$: relaciona pontos em coordenadas de pixel (de uma imagem) com linhas em coordenadas de pixel (na outra imagem)"
   ]
  },
  {
   "cell_type": "markdown",
   "metadata": {
    "slideshow": {
     "slide_type": "slide"
    }
   },
   "source": [
    "## Geometria Epipolar VI\n",
    "\n",
    "Considere o ponto\n",
    "$$\n",
    "\\mathbf{P}_l = [X_l, Y_l, Z_l]^t\n",
    "$$\n",
    "e\n",
    "$$\n",
    "\\mathbf{P}_r = [X_r, Y_r, Z_r]^t\n",
    "$$\n",
    "como sendo o ponto do mundo $\\mathbf{P}$ no Sistema de Coordenadas\n",
    "da câmera esquerda e direita (respectivamente)."
   ]
  },
  {
   "cell_type": "markdown",
   "metadata": {
    "slideshow": {
     "slide_type": "slide"
    }
   },
   "source": [
    "## Geometria Epipolar VII\n",
    "\n",
    "Pela geometria epipolar, os vetores $\\mathbf{P}_l$, $\\mathbf{t}$ e $\\mathbf{P}_l - \\mathbf{t}$ são coplanares.\n",
    "\n",
    "Desta forma, a equação de um plano qualquer $(\\mathbf{x} - \\mathbf{a})^t \\mathbf{n}$ que contém os pontos $\\mathbf{x}$\n",
    "e $\\mathbf{a}$ com vetor normal $\\mathbf{n}$ é dada por:\n",
    "\n",
    "$$\n",
    "\\begin{align*}\n",
    "(\\mathbf{P}_l - \\mathbf{t})^t \\mathbf{t} \\times \\mathbf{P}_l &= 0 \\quad(\\text{substitui-se } \\mathbf{P}_l)\\\\\n",
    "(\\mathbf{R}^t\\mathbf{P}_r + \\mathbf{t} - \\mathbf{t})^t \\mathbf{t} \\times \\mathbf{P}_l &= 0\\\\\n",
    "(\\mathbf{R}^t\\mathbf{P}_r)^t \\mathbf{t} \\times \\mathbf{P}_l &= 0 \\quad(\\text{aplica-se propriedade da transposta})\\\\\n",
    "\\mathbf{P}_r^t\\mathbf{R} \\mathbf{t} \\times \\mathbf{P}_l &= 0\n",
    "\\end{align*}\n",
    "$$"
   ]
  },
  {
   "cell_type": "markdown",
   "metadata": {
    "slideshow": {
     "slide_type": "slide"
    }
   },
   "source": [
    "## Geometria Epipolar VIII\n",
    "\n",
    "Todo produto vetorial pode ser escrito como uma multiplicação de posto incompleto por um vetor, ou seja,\n",
    "\n",
    "$$\n",
    "\\mathbf{t} \\times \\mathbf{P}_l =\n",
    "\\mathbf{S}\\mathbf{P}_l,\n",
    "$$\n",
    "onde\n",
    "$$\n",
    "\\mathbf{S}=\n",
    "\\begin{bmatrix}\n",
    "   0 & -t_z &  t_y\\\\\n",
    " t_z &    0 & -t_x\\\\\n",
    "-t_y &  t_x &    0\n",
    "\\end{bmatrix}\n",
    "$$\n",
    "\n"
   ]
  },
  {
   "cell_type": "markdown",
   "metadata": {
    "slideshow": {
     "slide_type": "slide"
    }
   },
   "source": [
    "## Geometria Epipolar IX\n",
    "\n",
    "Então,\n",
    "\n",
    "$$\n",
    "\\begin{align*}\n",
    "\\mathbf{P}_r^t\\mathbf{R} \\mathbf{t} \\times \\mathbf{P}_l &= 0\\\\\n",
    "\\mathbf{P}_r^t\\mathbf{R} \\mathbf{S}\\mathbf{P}_l &= 0\\\\\n",
    "\\mathbf{P}_r^t\\mathbf{E}\\mathbf{P}_l &= 0,\n",
    "\\end{align*}\n",
    "$$\n",
    "o que dá origem matemática à matriz essencial,\n",
    "$$\n",
    "\\mathbf{E} = \\mathbf{R} \\mathbf{S}\n",
    "$$"
   ]
  },
  {
   "cell_type": "markdown",
   "metadata": {
    "slideshow": {
     "slide_type": "slide"
    }
   },
   "source": [
    "## Geometria Epipolar X\n",
    "\n",
    "A matriz essencial $\\mathbf{E}$:\n",
    "\n",
    "- Não possui posto completo (não possui inversa) $\\rightarrow$ seu determinante é 0\n",
    "- Seu posto é igual a 2: somente pode transformar um ponto em uma reta\n",
    "- Possui 5 parâmetros: 3 de rotação e 2 de translação (o módulo do vetor de rotação não pode ser determinado)\n",
    "- Transforma um ponto em uma imagem em uma reta no *espaço físico* da outra câmera"
   ]
  },
  {
   "cell_type": "markdown",
   "metadata": {
    "slideshow": {
     "slide_type": "slide"
    }
   },
   "source": [
    "## Geometria Epipolar XI\n",
    "\n",
    "Considerando agora pontos em **coordenadas normalizadas de câmera**\n",
    "(divididos pelo seu $Z$, mas sem multiplicar por $f$)\n",
    "\n",
    "$$\n",
    "\\mathbf{p}_l = [X_l/Z_l, Y_l/Z_l]^t,\n",
    "$$\n",
    "e\n",
    "$$\n",
    "\\mathbf{p}_r = [X_r/Z_r, Y_r/Z_r]^t\n",
    "$$"
   ]
  },
  {
   "cell_type": "markdown",
   "metadata": {
    "slideshow": {
     "slide_type": "slide"
    }
   },
   "source": [
    "## Geometria Epipolar XII\n",
    "\n",
    "Podemos ver que a matriz essencial $\\mathbf{E}$ também os relaciona,\n",
    "já que\n",
    "$$\n",
    "\\mathbf{p}_r^t \\mathbf{E} \\mathbf{p}_l = 0\n",
    "$$\n",
    "é igual a equação\n",
    "$$\n",
    "\\mathbf{P}_r^t\\mathbf{E}\\mathbf{P}_l = 0\n",
    "$$\n",
    "multiplicada por $\\frac{ff}{Z_lZ_r}$"
   ]
  },
  {
   "cell_type": "markdown",
   "metadata": {
    "slideshow": {
     "slide_type": "slide"
    }
   },
   "source": [
    "## Geometria Epipolar XIII\n",
    "\n",
    "Se levarmos em conta também que um ponto $\\mathbf{q}_l=[x_l,y_l,1]^t$ na imagem (em pixels) é projetado por:\n",
    "\n",
    "$$\n",
    "\\begin{align*}\n",
    "\\mathbf{q}_l &= \\mathbf{K}_l\\mathbf{p}_l\\\\\n",
    "\\begin{bmatrix}\n",
    "x_l\\\\\n",
    "y_l\\\\\n",
    "1\n",
    "\\end{bmatrix}\n",
    "&=\n",
    "\\begin{bmatrix}\n",
    "f & 0 & c_{l,x}\\\\\n",
    "0 & f & c_{l,y}\\\\\n",
    "0 & 0 &  1\\\\\n",
    "\\end{bmatrix}\n",
    "\\begin{bmatrix}\n",
    "X_l/Z_l\\\\\n",
    "Y_l/Z_l\\\\\n",
    "1\n",
    "\\end{bmatrix},\n",
    "\\end{align*}\n",
    "$$\n",
    "podemos calcular o processo inverso: transformar $\\mathbf{q}_l$ em $\\mathbf{p}_l$\n",
    "(e o mesmo para o ponto direito $\\mathbf{q}_r$)"
   ]
  },
  {
   "cell_type": "markdown",
   "metadata": {
    "slideshow": {
     "slide_type": "slide"
    }
   },
   "source": [
    "## Geometria Epipolar XIV\n",
    "\n",
    "$$\n",
    "\\begin{bmatrix}\n",
    "X_l/Z_l\\\\\n",
    "Y_l/Z_l\\\\\n",
    "1\n",
    "\\end{bmatrix}\n",
    "=\n",
    "\\begin{bmatrix}\n",
    "\\frac{1}{f} & 0 & \\frac{-c_{l,x}}{f}\\\\\n",
    "0 & \\frac{1}{f} & \\frac{-c_{l,y}}{f}\\\\\n",
    "0 & 0 &  1\\\\\n",
    "\\end{bmatrix}\n",
    "\\begin{bmatrix}\n",
    "x_l\\\\\n",
    "y_l\\\\\n",
    "1\n",
    "\\end{bmatrix}\n",
    "$$\n",
    "ou seja, $\\mathbf{p}_l = \\mathbf{K}^{-1}_l\\mathbf{q}_l$"
   ]
  },
  {
   "cell_type": "markdown",
   "metadata": {
    "slideshow": {
     "slide_type": "slide"
    }
   },
   "source": [
    "## Geometria Epipolar XV\n",
    "\n",
    "Com isto, a equação da matriz essencial se torna\n",
    "\n",
    "$$\n",
    "\\begin{align*}\n",
    "\\mathbf{p}_r^t &\\mathbf{E} \\mathbf{p}_l = 0\\\\\n",
    "(\\mathbf{K}^{-1}_r\\mathbf{q}_r)^t &\\mathbf{E} \\mathbf{K}^{-1}_l\\mathbf{q}_l = 0 \\\\\n",
    "\\mathbf{q}_r^t\\mathbf{K}^{-t}_r &\\mathbf{E} \\mathbf{K}^{-1}_l\\mathbf{q}_l = 0 \\\\\n",
    "\\mathbf{q}_r^t & \\mathbf{F}\\mathbf{q}_l = 0,\n",
    "\\end{align*}\n",
    "$$\n",
    "onde\n",
    "$$\n",
    "\\mathbf{F} = \\mathbf{K}^{-t}_r \\mathbf{E} \\mathbf{K}^{-1}_l\n",
    "$$"
   ]
  },
  {
   "cell_type": "markdown",
   "metadata": {
    "slideshow": {
     "slide_type": "slide"
    }
   },
   "source": [
    "## Geometria Epipolar XVI\n",
    "\n",
    "A matriz fundamental $\\mathbf{F}$:\n",
    "\n",
    "- Possui as mesmas características matriciais da matriz $\\mathbf{E}$ (posto 2)\n",
    "- Transforma um ponto em uma imagem em uma reta na *imagem* da outra câmera\n",
    "- Note a importância: sabendo-se $\\mathbf{F}$, é possível ter as linhas epipolares\n",
    "  na outra imagem"
   ]
  },
  {
   "cell_type": "markdown",
   "metadata": {
    "slideshow": {
     "slide_type": "slide"
    }
   },
   "source": [
    "## Calibração Estéreo\n",
    "\n",
    "- Estéreo calibrado: assume conhecidos os parâmetros intrínsecos das duas câmeras. Retorna os\n",
    "  parâmetros extrínsecos entre as duas câmeras\n",
    "- Estéreo não-calibrado: computa $\\mathbf{F}$ diretamente (sem que as\n",
    "  câmeras estejam calibradas)\n",
    "- Para aplicações de robótica, a primeira opção é mais confiável e possui melhor desempenho\n",
    "  computacional\n",
    "\n",
    "Os detalhes matemáticos de ambos os algoritmos podem ser conferidos em [3]"
   ]
  },
  {
   "cell_type": "markdown",
   "metadata": {
    "slideshow": {
     "slide_type": "slide"
    }
   },
   "source": [
    "## Calibração Estéreo na OpenCV\n",
    "\n",
    "A OpenCV possui uma função *bem* flexível para calibração (mais sobre ela a seguir).<br>\n",
    "Ela permite:\n",
    "\n",
    "- Computar os extrínsecos dados os intrínsecos conhecidos\n",
    "- Computar os extrínsecos e utilizar os intrínsecos fornecidos como solução inicial\n",
    "  (retornando versões refinadas destes parâmetros)\n",
    "- Computar todos os parâmetros: intrínsecos e extrínsecos\n",
    "\n",
    "Obviamente, a quantidade de imagens para a 3a. opção é considerável.\n",
    "O processo de calibração individual de cada câmera seguido pela calibração\n",
    "estéreo (mantendo os intrínsecos fixos) é mais confiável"
   ]
  },
  {
   "cell_type": "markdown",
   "metadata": {
    "slideshow": {
     "slide_type": "slide"
    }
   },
   "source": [
    "## Calibração Estéreo - Funções da OpenCV I\n",
    "\n",
    "``stereoCalibrate``: calibra um sistema de visão estéreo\n",
    "\n",
    "Parâmetros (a):\n",
    "\n",
    "- Arrays dos pontos no objeto (arrays de array Numpy)\n",
    "- Arrays dos pontos na imagem 1 (arrays de array Numpy)\n",
    "- Arrays dos pontos na imagem 2 (arrays de array Numpy)\n",
    "    - Estes três arrays devem corresponder: numa mesma posição $k$, deve constar o 3D/2D de um mesmo ponto\n",
    "- Matriz com parâmetros intrísecos da câmera 1\n",
    "- Vetor com parâmetros de distorção da câmera 1\n",
    "- Matriz com parâmetros intrísecos da câmera 2\n",
    "- Vetor com parâmetros de distorção da câmera 2\n",
    "- Tamanho da imagem (largura $\\times$ altura)"
   ]
  },
  {
   "cell_type": "markdown",
   "metadata": {
    "slideshow": {
     "slide_type": "slide"
    }
   },
   "source": [
    "## Calibração Estéreo - Funções da OpenCV I\n",
    "\n",
    "``stereoCalibrate``: calibra um sistema de visão estéreo\n",
    "\n",
    "Parâmetros (b):\n",
    "\n",
    "- Saída - matriz de rotação que relaciona a câmera 1 com a 2\n",
    "- Saída - vetor de translação que relaciona a câmera 1 com a 2\n",
    "- Saída - matriz essencial\n",
    "- Saída - matriz fundamental\n",
    "- Saída - as orientações do plano no sistema de coordenadas da câmera 1 (extrínsecos de rotação na representação de Rodrigues)\n",
    "- Saída - as posições do plano no sistema de coordenadas da câmera 1 (extrínsecos de translação)\n",
    "- Saída - array contendo os erros de calibração por imagem\n",
    "- Flag que informa o que a função deve calcular: calibrar as câmeras individuais, calibrar apenas o estéreo, utilizar a calibração\n",
    "  individual como solução inicial, etc. "
   ]
  },
  {
   "cell_type": "markdown",
   "metadata": {
    "slideshow": {
     "slide_type": "slide"
    }
   },
   "source": [
    "## Calibração Estéreo - Funções da OpenCV II\n",
    "\n",
    "``findFundamentalMat``: calcula a matriz fundamental entre duas imagens\n",
    "\n",
    "Parâmetros:\n",
    "\n",
    "- Arrays dos pontos na imagem 1 (pontos de uma única imagem)\n",
    "- Arrays dos pontos na imagem 2 (pontos de uma única imagem)\n",
    "    - Estes dois arrays devem corresponder: numa mesma posição $k$, deve constar o 2D de um mesmo ponto\n",
    "- Flag indicando o método: para calibração, utilizar `FM_8POINT` \n",
    "- Limiar para reprojeção: não usado na calibração\n",
    "- Valor de confiança: não usado na calibração\n",
    "- Máscara: não usada na calibração\n",
    "\n",
    "Retorno:\n",
    "\n",
    "Matriz fundamental que relaciona a imagem 1 com a 2\n"
   ]
  },
  {
   "cell_type": "markdown",
   "metadata": {
    "slideshow": {
     "slide_type": "slide"
    }
   },
   "source": [
    "## Observações\n",
    "\n",
    "- `stereoCalibrate` calibra todo o sistema estéreo e fornece a matriz fundamental\n",
    "- `findFundamentalMat` apenas calcula a matriz fundamental\n",
    "    - As matrizes calculadas pelas duas funções podem não ser iguais: algoritmos e premissas diferentes\n",
    "    - A partir dos parâmetros fornecidos por `stereoCalibrate`, é possível obter a matriz fundamental por multiplicações matriciais"
   ]
  },
  {
   "cell_type": "markdown",
   "metadata": {
    "slideshow": {
     "slide_type": "slide"
    }
   },
   "source": [
    "## Calibração Estéreo - Funções da OpenCV III\n",
    "\n",
    "`computeCorrespondEpilines`: computa as linhas epipolares (em uma imagem) correspondentes a vários pontos (em outra imagem)\n",
    "\n",
    "Parâmetros:\n",
    "\n",
    "- Arrays dos pontos na imagem (pontos de uma única imagem)\n",
    "- Inteiro informando o índice da imagem (1 ou 2) que contém os pontos\n",
    "- Matriz fundamental\n",
    "- Saída - linhas: array de pontos $3 \\times 1$ contendo os coeficientes $(a,b,c)$\n",
    "  de cada linha $ax + by + c = 0$"
   ]
  },
  {
   "cell_type": "markdown",
   "metadata": {
    "slideshow": {
     "slide_type": "slide"
    }
   },
   "source": [
    "## Sumário\n",
    "\n",
    "Nesta aula - calibração estéreo:\n",
    "\n",
    "- Geometria de um sistema estéreo\n",
    "- Processo de calibração estéreo\n",
    "- Descrição de funções relacionadas fornecidas pela OpenCV"
   ]
  },
  {
   "cell_type": "markdown",
   "metadata": {
    "slideshow": {
     "slide_type": "slide"
    }
   },
   "source": [
    "## Referências:\n",
    "\n",
    "[1] R. Szeliski. 2010. Computer Vision: Algorithms and Applications (1st. ed.). Springer.\n",
    "\n",
    "[2] E. Trucco and A. Verri. 1998. Introductory Techniques for 3-D Computer Vision. Prentice Hall PTR, USA.\n",
    "\n",
    "[3] A. Kaehler and G. Bradski. 2014. Learning OpenCV, 2nd Edition. O'Reilly Media, Inc.\n",
    "\n",
    "[4] OpenCV Documentation: Camera Calibration and 3D Reconstruction.<br>\n",
    "    Disponível em https://docs.opencv.org/4.x/d9/d0c/group__calib3d.html"
   ]
  }
 ],
 "metadata": {
  "celltoolbar": "Slideshow",
  "kernelspec": {
   "display_name": "Python 3 (ipykernel)",
   "language": "python",
   "name": "python3"
  },
  "language_info": {
   "codemirror_mode": {
    "name": "ipython",
    "version": 3
   },
   "file_extension": ".py",
   "mimetype": "text/x-python",
   "name": "python",
   "nbconvert_exporter": "python",
   "pygments_lexer": "ipython3",
   "version": "3.11.4"
  }
 },
 "nbformat": 4,
 "nbformat_minor": 2
}
